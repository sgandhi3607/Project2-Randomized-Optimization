{
 "cells": [
  {
   "cell_type": "markdown",
   "metadata": {},
   "source": [
    "WBCD Dataset Neural Network "
   ]
  },
  {
   "cell_type": "markdown",
   "metadata": {},
   "source": [
    "### Import Libraries"
   ]
  },
  {
   "cell_type": "code",
   "execution_count": null,
   "metadata": {},
   "outputs": [],
   "source": [
    "import mlrose\n",
    "\n",
    "from sklearn.datasets import load_iris\n",
    "from sklearn.model_selection import train_test_split\n",
    "from sklearn.preprocessing import MinMaxScaler, OneHotEncoder\n",
    "from sklearn.metrics import accuracy_score"
   ]
  },
  {
   "cell_type": "markdown",
   "metadata": {},
   "source": [
    "### Import more Libraries\n"
   ]
  },
  {
   "cell_type": "code",
   "execution_count": 2,
   "metadata": {},
   "outputs": [],
   "source": [
    "import numpy as np\n",
    "import pandas as pd\n",
    "import time \n",
    "\n",
    "import matplotlib.pyplot as plt\n",
    "\n",
    "# from sklearn.cross_validation import cross_val_score\n",
    "from sklearn.metrics import mean_squared_error\n",
    "from sklearn.model_selection import KFold\n",
    "from sklearn.model_selection import train_test_split\n",
    "from sklearn.neural_network import MLPClassifier\n",
    "from sklearn.preprocessing import StandardScaler\n",
    "from sklearn.utils import shuffle\n",
    "\n",
    "from textwrap import wrap"
   ]
  },
  {
   "cell_type": "markdown",
   "metadata": {},
   "source": [
    "### Load Dataset"
   ]
  },
  {
   "cell_type": "code",
   "execution_count": 3,
   "metadata": {},
   "outputs": [],
   "source": [
    "RANDOM_SEED = 25\n",
    "\n",
    "df = pd.read_csv('../datasets/us_income/adult-train.csv', delimiter=',', quotechar='\"')\n"
   ]
  },
  {
   "cell_type": "markdown",
   "metadata": {},
   "source": [
    "### Dataframe without Preprocessing "
   ]
  },
  {
   "cell_type": "code",
   "execution_count": 4,
   "metadata": {
    "scrolled": true
   },
   "outputs": [
    {
     "name": "stdout",
     "output_type": "stream",
     "text": [
      "Printing dataframe head (without any preprocessing)....\n",
      "   Age     Workclass  Fnlwgt      Education  EducationNum  \\\n",
      "0   34   Federal-gov   67083      Bachelors            13   \n",
      "1   72   Federal-gov   39110           11th             7   \n",
      "2   45   Federal-gov  235891     Assoc-acdm            12   \n",
      "3   26   Federal-gov  206983    Prof-school            15   \n",
      "4   31   Federal-gov  139455      Bachelors            13   \n",
      "5   27   Federal-gov  196386     Assoc-acdm            12   \n",
      "6   19   Federal-gov  255921   Some-college            10   \n",
      "7   60   Federal-gov   27466   Some-college            10   \n",
      "8   59   Federal-gov  212448        HS-grad             9   \n",
      "9   32   Federal-gov  148138      Bachelors            13   \n",
      "\n",
      "         MaritalStatus          Occupation    Relationship  \\\n",
      "0        Never-married     Exec-managerial       Unmarried   \n",
      "1             Divorced        Adm-clerical   Not-in-family   \n",
      "2        Never-married        Adm-clerical   Not-in-family   \n",
      "3   Married-civ-spouse      Prof-specialty         Husband   \n",
      "4        Never-married     Exec-managerial       Own-child   \n",
      "5   Married-civ-spouse        Adm-clerical         Husband   \n",
      "6        Never-married   Handlers-cleaners       Own-child   \n",
      "7              Widowed     Exec-managerial   Not-in-family   \n",
      "8              Widowed               Sales       Unmarried   \n",
      "9   Married-civ-spouse      Prof-specialty         Husband   \n",
      "\n",
      "                  Race      Sex  CapitalGain  CapitalLoss  HoursPerWeek  \\\n",
      "0   Asian-Pac-Islander     Male         1471            0            40   \n",
      "1                White   Female            0            0             8   \n",
      "2                White     Male            0            0            40   \n",
      "3                White     Male            0            0            60   \n",
      "4                White   Female            0            0            40   \n",
      "5                White     Male         4064            0            40   \n",
      "6                White     Male            0            0            20   \n",
      "7                White   Female            0            0            40   \n",
      "8                White   Female            0            0            40   \n",
      "9   Asian-Pac-Islander     Male            0         2002            40   \n",
      "\n",
      "   NativeCountry  Income  \n",
      "0       Cambodia   <=50K  \n",
      "1         Canada   <=50K  \n",
      "2       Columbia   <=50K  \n",
      "3       Columbia   <=50K  \n",
      "4           Cuba   <=50K  \n",
      "5    El-Salvador   <=50K  \n",
      "6        England   <=50K  \n",
      "7        England   <=50K  \n",
      "8        Germany   <=50K  \n",
      "9           Iran   <=50K  \n"
     ]
    }
   ],
   "source": [
    "print(\"Printing dataframe head (without any preprocessing)....\")\n",
    "print(df.head(10))"
   ]
  },
  {
   "cell_type": "markdown",
   "metadata": {},
   "source": [
    "### Dataset Preprocessing "
   ]
  },
  {
   "cell_type": "code",
   "execution_count": 5,
   "metadata": {},
   "outputs": [],
   "source": [
    "df.replace(' <=50K', 0, inplace=True)\n",
    "df.replace(' >50K', 1, inplace=True)\n",
    "\n",
    "df = pd.get_dummies(df)\n",
    "# print(df.head(5))\n",
    "\n",
    "X = df.loc[:, df.columns != 'Income']\n",
    "y = df['Income']"
   ]
  },
  {
   "cell_type": "markdown",
   "metadata": {},
   "source": [
    "### Sanity Check on Dataframe "
   ]
  },
  {
   "cell_type": "code",
   "execution_count": 6,
   "metadata": {
    "scrolled": true
   },
   "outputs": [
    {
     "name": "stdout",
     "output_type": "stream",
     "text": [
      "Sanity Check: Printing out dataframe and shape after preprocessing... \n",
      "   Age  Fnlwgt  EducationNum  CapitalGain  CapitalLoss  HoursPerWeek  Income  \\\n",
      "0   34   67083            13         1471            0            40       0   \n",
      "1   72   39110             7            0            0             8       0   \n",
      "2   45  235891            12            0            0            40       0   \n",
      "3   26  206983            15            0            0            60       0   \n",
      "4   31  139455            13            0            0            40       0   \n",
      "5   27  196386            12         4064            0            40       0   \n",
      "6   19  255921            10            0            0            20       0   \n",
      "7   60   27466            10            0            0            40       0   \n",
      "8   59  212448             9            0            0            40       0   \n",
      "9   32  148138            13            0         2002            40       0   \n",
      "\n",
      "   Workclass_ Federal-gov  Workclass_ Local-gov  Workclass_ Private  ...  \\\n",
      "0                       1                     0                   0  ...   \n",
      "1                       1                     0                   0  ...   \n",
      "2                       1                     0                   0  ...   \n",
      "3                       1                     0                   0  ...   \n",
      "4                       1                     0                   0  ...   \n",
      "5                       1                     0                   0  ...   \n",
      "6                       1                     0                   0  ...   \n",
      "7                       1                     0                   0  ...   \n",
      "8                       1                     0                   0  ...   \n",
      "9                       1                     0                   0  ...   \n",
      "\n",
      "    NativeCountry_ Portugal   NativeCountry_ Puerto-Rico  \\\n",
      "0                         0                            0   \n",
      "1                         0                            0   \n",
      "2                         0                            0   \n",
      "3                         0                            0   \n",
      "4                         0                            0   \n",
      "5                         0                            0   \n",
      "6                         0                            0   \n",
      "7                         0                            0   \n",
      "8                         0                            0   \n",
      "9                         0                            0   \n",
      "\n",
      "    NativeCountry_ Scotland   NativeCountry_ South   NativeCountry_ Taiwan  \\\n",
      "0                         0                      0                       0   \n",
      "1                         0                      0                       0   \n",
      "2                         0                      0                       0   \n",
      "3                         0                      0                       0   \n",
      "4                         0                      0                       0   \n",
      "5                         0                      0                       0   \n",
      "6                         0                      0                       0   \n",
      "7                         0                      0                       0   \n",
      "8                         0                      0                       0   \n",
      "9                         0                      0                       0   \n",
      "\n",
      "    NativeCountry_ Thailand   NativeCountry_ Trinadad&Tobago  \\\n",
      "0                         0                                0   \n",
      "1                         0                                0   \n",
      "2                         0                                0   \n",
      "3                         0                                0   \n",
      "4                         0                                0   \n",
      "5                         0                                0   \n",
      "6                         0                                0   \n",
      "7                         0                                0   \n",
      "8                         0                                0   \n",
      "9                         0                                0   \n",
      "\n",
      "    NativeCountry_ United-States   NativeCountry_ Vietnam  \\\n",
      "0                              0                        0   \n",
      "1                              0                        0   \n",
      "2                              0                        0   \n",
      "3                              0                        0   \n",
      "4                              0                        0   \n",
      "5                              0                        0   \n",
      "6                              0                        0   \n",
      "7                              0                        0   \n",
      "8                              0                        0   \n",
      "9                              0                        0   \n",
      "\n",
      "    NativeCountry_ Yugoslavia  \n",
      "0                           0  \n",
      "1                           0  \n",
      "2                           0  \n",
      "3                           0  \n",
      "4                           0  \n",
      "5                           0  \n",
      "6                           0  \n",
      "7                           0  \n",
      "8                           0  \n",
      "9                           0  \n",
      "\n",
      "[10 rows x 105 columns]\n",
      "df.shape:  (30162, 105)\n"
     ]
    }
   ],
   "source": [
    "print(\"Sanity Check: Printing out dataframe and shape after preprocessing... \")\n",
    "print(df.head(10))\n",
    "print(\"df.shape: \", df.shape)\n"
   ]
  },
  {
   "cell_type": "markdown",
   "metadata": {},
   "source": [
    "### Training and Testing Split, Scaling "
   ]
  },
  {
   "cell_type": "code",
   "execution_count": 7,
   "metadata": {},
   "outputs": [
    {
     "name": "stderr",
     "output_type": "stream",
     "text": [
      "/home/saksham/.local/lib/python3.5/site-packages/sklearn/preprocessing/data.py:625: DataConversionWarning: Data with input dtype uint8, int64 were all converted to float64 by StandardScaler.\n",
      "  return self.partial_fit(X, y)\n",
      "/home/saksham/.local/lib/python3.5/site-packages/ipykernel_launcher.py:8: DataConversionWarning: Data with input dtype uint8, int64 were all converted to float64 by StandardScaler.\n",
      "  \n",
      "/home/saksham/.local/lib/python3.5/site-packages/ipykernel_launcher.py:9: DataConversionWarning: Data with input dtype uint8, int64 were all converted to float64 by StandardScaler.\n",
      "  if __name__ == '__main__':\n"
     ]
    }
   ],
   "source": [
    "# Split into 30%  training data, 70% testing data\n",
    "X_train, X_test, y_train, y_test = train_test_split(X, y,\n",
    "                                                    test_size=0.30, random_state=RANDOM_SEED)\n",
    "\n",
    "# Apply scaling. Large values of certain features undesireable for NN\n",
    "scaler = StandardScaler()\n",
    "scaler.fit(X_train)\n",
    "X_train = scaler.transform(X_train)\n",
    "X_test = scaler.transform(X_test)"
   ]
  },
  {
   "cell_type": "markdown",
   "metadata": {},
   "source": [
    "### Sanity Check on X_train"
   ]
  },
  {
   "cell_type": "code",
   "execution_count": 8,
   "metadata": {
    "scrolled": true
   },
   "outputs": [
    {
     "name": "stdout",
     "output_type": "stream",
     "text": [
      "Sanity Check: Printing out X_train... \n",
      "[[ 0.80094155 -1.53315845 -0.05190318 -0.1485495  -0.21797847  0.33651868\n",
      "  -0.17935488 -0.27366136  0.59593187 -0.19138411 -0.30025548 -0.21174501\n",
      "  -0.01686019 -0.16777087 -0.18681609 -0.11231166 -0.06898521 -0.09729794\n",
      "  -0.13914294 -0.12346382 -0.18708745 -0.2144172  -0.44821724 -0.11487839\n",
      "  -0.69458353 -0.23979288 -0.04016192 -0.13664626  1.88030667 -0.40388429\n",
      "  -0.02482164  1.07637017 -0.11338783 -0.69113933 -0.18173254 -0.16955304\n",
      "  -0.37574134 -0.01686019 -0.39158358  2.5674644  -0.1839458  -0.21514122\n",
      "  -0.26362857 -0.34588621 -0.07170518 -0.39527605 -0.14990271 -0.3660739\n",
      "  -0.17709161 -0.23354385  1.19881045 -0.59126212 -0.17609341 -0.41516053\n",
      "  -0.34597203 -0.22121665 -0.09729794 -0.17694931 -0.32043606 -0.08847901\n",
      "   0.40451868 -0.69608262  0.69608262 -0.02176847 -0.06089422 -0.04920795\n",
      "  -0.04016192 -0.05016592 -0.04723434 -0.03155373 -0.05684339 -0.05293692\n",
      "  -0.03373476 -0.06244202 -0.03079256 -0.04356792 -0.03644116  0.\n",
      "  -0.02176847 -0.02753909 -0.02065089 -0.05767601 -0.04074922 -0.02666398\n",
      "  -0.04723434 -0.05110611 -0.04356792 -0.02384729 -0.14281226 -0.03229704\n",
      "  -0.01821151 -0.03229704 -0.07901548 -0.03896094 -0.03001217 -0.05930664\n",
      "  -0.02176847 -0.05110611 -0.03511392 -0.0228315  -0.02575924  0.30806208\n",
      "  -0.04823115 -0.02384729]\n",
      " [-0.41850941  0.98087627 -0.05190318  0.39898779 -0.21797847 -0.08116711\n",
      "   5.57553819 -0.27366136 -1.67804418 -0.19138411 -0.30025548 -0.21174501\n",
      "  -0.01686019 -0.16777087 -0.18681609 -0.11231166 -0.06898521 -0.09729794\n",
      "  -0.13914294 -0.12346382 -0.18708745 -0.2144172  -0.44821724 -0.11487839\n",
      "  -0.69458353 -0.23979288 -0.04016192 -0.13664626  1.88030667 -0.40388429\n",
      "  -0.02482164  1.07637017 -0.11338783 -0.69113933 -0.18173254 -0.16955304\n",
      "  -0.37574134 -0.01686019 -0.39158358 -0.38948933 -0.1839458  -0.21514122\n",
      "  -0.26362857 -0.34588621 -0.07170518 -0.39527605 -0.14990271 -0.3660739\n",
      "   5.64679492 -0.23354385 -0.83416023 -0.59126212 -0.17609341 -0.41516053\n",
      "  -0.34597203  4.52045548 -0.09729794 -0.17694931 -0.32043606 -0.08847901\n",
      "   0.40451868  1.43661108 -1.43661108 -0.02176847 -0.06089422 -0.04920795\n",
      "  -0.04016192 -0.05016592 -0.04723434 -0.03155373 -0.05684339 -0.05293692\n",
      "  -0.03373476 -0.06244202 -0.03079256 -0.04356792 -0.03644116  0.\n",
      "  -0.02176847 -0.02753909 -0.02065089 -0.05767601 -0.04074922 -0.02666398\n",
      "  -0.04723434 -0.05110611 -0.04356792 -0.02384729 -0.14281226 -0.03229704\n",
      "  -0.01821151 -0.03229704 -0.07901548 -0.03896094 -0.03001217 -0.05930664\n",
      "  -0.02176847 -0.05110611 -0.03511392 -0.0228315  -0.02575924  0.30806208\n",
      "  -0.04823115 -0.02384729]\n",
      " [ 0.41986312 -0.13401949  2.29546957 -0.1485495  -0.21797847  1.17189026\n",
      "  -0.17935488 -0.27366136  0.59593187 -0.19138411 -0.30025548 -0.21174501\n",
      "  -0.01686019 -0.16777087 -0.18681609 -0.11231166 -0.06898521 -0.09729794\n",
      "  -0.13914294 -0.12346382 -0.18708745 -0.2144172  -0.44821724  8.70485758\n",
      "  -0.69458353 -0.23979288 -0.04016192 -0.13664626 -0.53182814 -0.40388429\n",
      "  -0.02482164  1.07637017 -0.11338783 -0.69113933 -0.18173254 -0.16955304\n",
      "   2.66140529 -0.01686019 -0.39158358 -0.38948933 -0.1839458  -0.21514122\n",
      "  -0.26362857 -0.34588621 -0.07170518 -0.39527605 -0.14990271 -0.3660739\n",
      "  -0.17709161 -0.23354385  1.19881045 -0.59126212 -0.17609341 -0.41516053\n",
      "  -0.34597203 -0.22121665 -0.09729794 -0.17694931 -0.32043606 -0.08847901\n",
      "   0.40451868 -0.69608262  0.69608262 -0.02176847 -0.06089422 -0.04920795\n",
      "  -0.04016192 -0.05016592 -0.04723434 -0.03155373 -0.05684339 -0.05293692\n",
      "  -0.03373476 -0.06244202 -0.03079256 -0.04356792 -0.03644116  0.\n",
      "  -0.02176847 -0.02753909 -0.02065089 -0.05767601 -0.04074922 -0.02666398\n",
      "  -0.04723434 -0.05110611 -0.04356792 -0.02384729 -0.14281226 -0.03229704\n",
      "  -0.01821151 -0.03229704 -0.07901548 -0.03896094 -0.03001217 -0.05930664\n",
      "  -0.02176847 -0.05110611 -0.03511392 -0.0228315  -0.02575924  0.30806208\n",
      "  -0.04823115 -0.02384729]\n",
      " [ 1.5630984  -0.47829445  1.51301199 -0.1485495  -0.21797847  0.75420447\n",
      "  -0.17935488 -0.27366136 -1.67804418 -0.19138411 -0.30025548  4.72266154\n",
      "  -0.01686019 -0.16777087 -0.18681609 -0.11231166 -0.06898521 -0.09729794\n",
      "  -0.13914294 -0.12346382 -0.18708745 -0.2144172  -0.44821724 -0.11487839\n",
      "  -0.69458353  4.17026558 -0.04016192 -0.13664626 -0.53182814 -0.40388429\n",
      "  -0.02482164  1.07637017 -0.11338783 -0.69113933 -0.18173254 -0.16955304\n",
      "  -0.37574134 -0.01686019 -0.39158358  2.5674644  -0.1839458  -0.21514122\n",
      "  -0.26362857 -0.34588621 -0.07170518 -0.39527605 -0.14990271 -0.3660739\n",
      "  -0.17709161 -0.23354385  1.19881045 -0.59126212 -0.17609341 -0.41516053\n",
      "  -0.34597203 -0.22121665 -0.09729794 -0.17694931 -0.32043606 -0.08847901\n",
      "   0.40451868 -0.69608262  0.69608262 -0.02176847 -0.06089422 -0.04920795\n",
      "  -0.04016192 -0.05016592 -0.04723434 -0.03155373 -0.05684339 -0.05293692\n",
      "  -0.03373476 -0.06244202 -0.03079256 -0.04356792 -0.03644116  0.\n",
      "  -0.02176847 -0.02753909 -0.02065089 -0.05767601 -0.04074922 -0.02666398\n",
      "  -0.04723434 -0.05110611 -0.04356792 -0.02384729 -0.14281226 -0.03229704\n",
      "  -0.01821151 -0.03229704 -0.07901548 -0.03896094 -0.03001217 -0.05930664\n",
      "  -0.02176847 -0.05110611 -0.03511392 -0.0228315  -0.02575924  0.30806208\n",
      "  -0.04823115 -0.02384729]]\n",
      "X_train.shape:  (21113, 104)\n",
      "X_test.shape:  (9049, 104)\n",
      "y_train.shape:  (21113,)\n",
      "y_test.shape:  (9049,)\n"
     ]
    }
   ],
   "source": [
    "print(\"Sanity Check: Printing out X_train... \")\n",
    "print(X_train[:4])\n",
    "print(\"X_train.shape: \", X_train.shape)\n",
    "print(\"X_test.shape: \", X_test.shape)\n",
    "print(\"y_train.shape: \", y_train.shape)\n",
    "print(\"y_test.shape: \", y_test.shape)\n"
   ]
  },
  {
   "cell_type": "markdown",
   "metadata": {},
   "source": [
    "### Misc NN Testing (Immediate output for single set of specifications)"
   ]
  },
  {
   "cell_type": "code",
   "execution_count": 16,
   "metadata": {},
   "outputs": [
    {
     "name": "stdout",
     "output_type": "stream",
     "text": [
      "Time taken to train NN:  24.95978093147278\n",
      "\n",
      "Misc Network Statistics\n",
      "\n",
      "y_train_accuracy:  0.7479751811680008 %\n",
      "y_test_accuracy: 0.7583158360039783 %\n",
      "\n",
      "train_err (MSE):  0.25202481883199923\n",
      "test_err: (MSE) 0.24168416399602166\n"
     ]
    }
   ],
   "source": [
    "np.random.seed(5)\n",
    "\n",
    "hidden_node_architecture = [15, 15, 15]\n",
    "\n",
    "# Lists to hold values for x and y axes \n",
    "max_iter_list = list()\n",
    "testError = []\n",
    "trainError = []\n",
    "\n",
    "# Create list to hold data on each trial\n",
    "data = []\n",
    "# Columns for df we'll create after loop \n",
    "cols = [\"Max Iterations\", \"training accuracy\", \"testing accuracy\", \"training MSE\", \"testing MSE\"]\n",
    "\n",
    "# Make decay object for Simulated Annealing to work \n",
    "decayObject = mlrose.ArithDecay()\n",
    "\n",
    "# COMMENCE TRAINING LOOP \n",
    "for max_iter in range(500, 10001, 500) :\n",
    "    \n",
    "    print(\"Training NN with max_iter: \", max_iter)\n",
    "    \n",
    "    nn_sigmoid = mlrose.NeuralNetwork(hidden_nodes = hidden_node_architecture, activation = 'sigmoid', \n",
    "                                        algorithm = 'simulated_annealing', \n",
    "                                        max_iters = max_iter, bias = True, is_classifier = True, \n",
    "                                        learning_rate = 0.01, early_stopping = True, \n",
    "                                        schedule=decayObject, \n",
    "                                        clip_max = 5, max_attempts = 100)\n",
    "\n",
    "    nn_sigmoid.fit(X_train, y_train)\n",
    "    \n",
    "    # Prediction based on y_train and y_test \n",
    "    y_train_pred = nn_sigmoid.predict(X_train)\n",
    "    y_test_pred = nn_sigmoid.predict(X_test)\n",
    "    \n",
    "    # MSE Values \n",
    "    train_err = mean_squared_error(y_train,\n",
    "                        y_train_pred)\n",
    "    test_err = mean_squared_error(y_test,\n",
    "                        y_test_pred) \n",
    "\n",
    "    # Accuracy Values\n",
    "    y_train_accuracy = accuracy_score(y_train, y_train_pred)\n",
    "    y_test_accuracy = accuracy_score(y_test, y_test_pred)\n",
    "    \n",
    "    data.append([max_iter, y_train_accuracy, y_test_accuracy, train_err, test_err])\n",
    "    \n",
    "    \n",
    "    # Append data to lists\n",
    "    testError.append(test_err)\n",
    "    trainError.append(train_err)\n",
    "    max_iter_list.append(max_iter)\n",
    "    \n",
    "    \n",
    "# Store results from above into df \n",
    "result_df = pd.DataFrame(data, columns=cols)\n",
    "print(result_df)\n",
    "    \n"
   ]
  },
  {
   "cell_type": "code",
   "execution_count": null,
   "metadata": {},
   "outputs": [],
   "source": [
    "plt.figure()\n",
    "title = \"Cesus NN Simulated Annealing (Arithmetic Decay) : Error x Max Iterations - Learning Rate = .01, Hidden Layers = [15,15,15]\"\n",
    "plt.title('\\n'.join(wrap(title,60)))\n",
    "# plt.subplots_adjust(top=0.85)\n",
    "plt.plot(max_iter_list, testError, '-', label='Test Error')\n",
    "plt.plot(max_iter_list, trainError, '-', label='Train Error')\n",
    "plt.legend()\n",
    "plt.xlabel('Max Iterations')\n",
    "plt.ylabel('Error')\n",
    "filename = 'WBCD_SA(ArithDecay)_MaxIter.png'\n",
    "plt.savefig(\"../plots/\" + filename)"
   ]
  },
  {
   "cell_type": "markdown",
   "metadata": {},
   "source": [
    "### Train Neural Network (RHC, Sigmoid)"
   ]
  },
  {
   "cell_type": "code",
   "execution_count": null,
   "metadata": {},
   "outputs": [],
   "source": [
    "# Initialize neural network object and fit object - attempt 1\n",
    "\n",
    "hidden_node_architecture = list()\n",
    "\n",
    "for x in range(5, 40, 5):\n",
    "    for y in range(5, 40, 5):\n",
    "        for z in range(5, 40, 5):.\n",
    "            hidden_node_architecture.append([x,y,z])\n",
    "\n",
    "np.random.seed(5)\n",
    "\n",
    "lr_nn_model_RHC_sigmoid = mlrose.NeuralNetwork(hidden_nodes = [], activation = 'sigmoid', \n",
    "                                    algorithm = 'random_hill_climb', \n",
    "                                    max_iters = 1000, bias = True, is_classifier = True, \n",
    "                                    learning_rate = 0.01, early_stopping = True, \n",
    "                                    clip_max = 5, max_attempts = 100)\n",
    "\n",
    "train_start_time = time.time() \n",
    "\n",
    "lr_nn_model_RHC_sigmoid.fit(X_train, y_train)\n",
    "\n",
    "train_end_time = time.time()\n",
    "print(\"Time taken to train NN: \", train_end_time - train_start_time)"
   ]
  },
  {
   "cell_type": "markdown",
   "metadata": {},
   "source": [
    "### Accuracy, MSE (RHC, Sigmoid)\n"
   ]
  },
  {
   "cell_type": "code",
   "execution_count": null,
   "metadata": {},
   "outputs": [],
   "source": [
    "# Prediction based on y_train and y_test \n",
    "y_train_pred = lr_nn_model_RHC_sigmoid.predict(X_train)\n",
    "y_test_pred = lr_nn_model_RHC_sigmoid.predict(X_test)\n",
    "\n",
    "\n",
    "# MSE Values \n",
    "train_err = mean_squared_error(y_train,\n",
    "                    y_train_pred)\n",
    "test_err = mean_squared_error(y_test,\n",
    "                    y_test_pred) \n",
    "\n",
    "# Accuracy Values\n",
    "y_train_accuracy = accuracy_score(y_train, y_train_pred)\n",
    "y_test_accuracy = accuracy_score(y_test, y_test_pred)\n",
    "\n",
    "\n",
    "\n",
    "# Print everything out\n",
    "\n",
    "print(\"\")\n",
    "\n",
    "print(\"RHC, Sigmoid Statistics\")\n",
    "\n",
    "print(\"\")\n",
    "\n",
    "print(\"y_train_accuracy: \", y_train_accuracy, \"%\")\n",
    "print(\"y_test_accuracy:\", y_test_accuracy, \"%\")\n",
    "\n",
    "print (\"\")\n",
    "\n",
    "print(\"train_err (MSE): \", train_err)\n",
    "print(\"test_err: (MSE)\", test_err)"
   ]
  },
  {
   "cell_type": "markdown",
   "metadata": {},
   "source": [
    "### Train Neural Network (RHC, Relu)"
   ]
  },
  {
   "cell_type": "code",
   "execution_count": null,
   "metadata": {},
   "outputs": [],
   "source": [
    "# Initialize neural network object and fit object - attempt 1\n",
    "\n",
    "np.random.seed(5)\n",
    "\n",
    "lr_nn_model_RHC_Relu = mlrose.NeuralNetwork(hidden_nodes = [], activation = 'relu', \n",
    "                                    algorithm = 'random_hill_climb', \n",
    "                                    max_iters = 1000, bias = True, is_classifier = True, \n",
    "                                    learning_rate = 0.01, early_stopping = True, \n",
    "                                    clip_max = 5, max_attempts = 100)\n",
    "\n",
    "lr_nn_model_RHC_Relu.fit(X_train, y_train)"
   ]
  },
  {
   "cell_type": "markdown",
   "metadata": {},
   "source": [
    "### Accuracy, MSE (RHC, Relu)"
   ]
  },
  {
   "cell_type": "code",
   "execution_count": null,
   "metadata": {},
   "outputs": [],
   "source": [
    "# Prediction based on y_train and y_test \n",
    "y_train_pred = lr_nn_model_RHC_Relu.predict(X_train)\n",
    "y_test_pred = lr_nn_model_RHC_Relu.predict(X_test)\n",
    "\n",
    "\n",
    "# MSE Values \n",
    "train_err = mean_squared_error(y_train,\n",
    "                    y_train_pred)\n",
    "test_err = mean_squared_error(y_test,\n",
    "                    y_test_pred) \n",
    "\n",
    "# Accuracy Values\n",
    "y_train_accuracy = accuracy_score(y_train, y_train_pred)\n",
    "y_test_accuracy = accuracy_score(y_test, y_test_pred)\n",
    "\n",
    "\n",
    "# Print everything out\n",
    "\n",
    "print(\"\")\n",
    "\n",
    "print(\"RHC, Relu Statistics\")\n",
    "\n",
    "print(\"\")\n",
    "\n",
    "print(\"y_train_accuracy: \", y_train_accuracy, \"%\")\n",
    "print(\"y_test_accuracy:\", y_test_accuracy, \"%\")\n",
    "\n",
    "print (\"\")\n",
    "\n",
    "print(\"train_err (MSE): \", train_err)\n",
    "print(\"test_err: (MSE)\", test_err)"
   ]
  },
  {
   "cell_type": "markdown",
   "metadata": {},
   "source": [
    "### Train Neural Network (Gradient Descent)"
   ]
  },
  {
   "cell_type": "code",
   "execution_count": null,
   "metadata": {},
   "outputs": [],
   "source": [
    "# Initialize neural network object and fit object - attempt 1\n",
    "\n",
    "np.random.seed(5)\n",
    "\n",
    "lr_nn_model_GradientDescent = mlrose.NeuralNetwork(hidden_nodes = [30, 30, 30], activation = 'relu', \n",
    "                                    algorithm = 'gradient_descent', \n",
    "                                    max_iters = 1000, bias = True, is_classifier = True, \n",
    "                                    learning_rate = 0.1, early_stopping = True, \n",
    "                                    clip_max = 5, max_attempts = 100)\n",
    "\n",
    "train_start_time = time.time() \n",
    "\n",
    "lr_nn_model_GradientDescent.fit(X_train, y_train)\n",
    "\n",
    "train_end_time = time.time()\n",
    "print(\"Time taken to train NN: \", train_end_time - train_start_time)\n",
    "\n",
    "\n"
   ]
  },
  {
   "cell_type": "markdown",
   "metadata": {},
   "source": [
    "### Test Benchmark Accuracy "
   ]
  },
  {
   "cell_type": "code",
   "execution_count": null,
   "metadata": {},
   "outputs": [],
   "source": [
    "# Prediction based on y_train and y_test \n",
    "y_train_pred = lr_nn_model_RHC_Relu.predict(X_train)\n",
    "y_test_pred = lr_nn_model_RHC_Relu.predict(X_test)\n",
    "\n",
    "\n",
    "# MSE Values \n",
    "train_err = mean_squared_error(y_train,\n",
    "                    y_train_pred)\n",
    "test_err = mean_squared_error(y_test,\n",
    "                    y_test_pred) \n",
    "\n",
    "# Accuracy Values\n",
    "y_train_accuracy = accuracy_score(y_train, y_train_pred)\n",
    "y_test_accuracy = accuracy_score(y_test, y_test_pred)\n",
    "\n",
    "\n",
    "# Print everything out\n",
    "\n",
    "print(\"\")\n",
    "\n",
    "print(\"RHC, Relu Statistics\")\n",
    "\n",
    "print(\"\")\n",
    "\n",
    "print(\"y_train_accuracy: \", y_train_accuracy, \"%\")\n",
    "print(\"y_test_accuracy:\", y_test_accuracy, \"%\")\n",
    "\n",
    "print (\"\")\n",
    "\n",
    "print(\"train_err (MSE): \", train_err)\n",
    "print(\"test_err: (MSE)\", test_err)"
   ]
  }
 ],
 "metadata": {
  "kernelspec": {
   "display_name": "Python 3",
   "language": "python",
   "name": "python3"
  },
  "language_info": {
   "codemirror_mode": {
    "name": "ipython",
    "version": 3
   },
   "file_extension": ".py",
   "mimetype": "text/x-python",
   "name": "python",
   "nbconvert_exporter": "python",
   "pygments_lexer": "ipython3",
   "version": "3.5.2"
  }
 },
 "nbformat": 4,
 "nbformat_minor": 2
}
