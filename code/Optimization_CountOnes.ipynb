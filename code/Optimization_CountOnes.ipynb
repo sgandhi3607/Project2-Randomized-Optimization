{
 "cells": [
  {
   "cell_type": "markdown",
   "metadata": {},
   "source": [
    "### Import Libraries"
   ]
  },
  {
   "cell_type": "code",
   "execution_count": 1,
   "metadata": {},
   "outputs": [],
   "source": [
    "import mlrose\n",
    "\n",
    "from sklearn.datasets import load_iris\n",
    "from sklearn.model_selection import train_test_split\n",
    "from sklearn.preprocessing import MinMaxScaler, OneHotEncoder\n",
    "from sklearn.metrics import accuracy_score\n",
    "\n",
    "import numpy as np\n",
    "import pandas as pd"
   ]
  },
  {
   "cell_type": "code",
   "execution_count": 17,
   "metadata": {},
   "outputs": [
    {
     "name": "stdout",
     "output_type": "stream",
     "text": [
      "Running for max_iteration size:  20\n",
      "Running for max_iteration size:  40\n",
      "Running for max_iteration size:  60\n",
      "Running for max_iteration size:  80\n",
      "Running for max_iteration size:  100\n",
      "[1 1 1 1 0 1 1 1 1 1 1 1 1 1 1 1 0 1 1 1 1 1 1 1 1 1 1 1 1 1 0 1 0 1 1 1 1\n",
      " 1 1 0 1 0 0 1 1 1 1 1 0 1]\n",
      "42.0\n",
      "[1 1 1 1 1 1 1 1 0 1 1 0 1 0 1 1 1 0 1 1 0 1 1 0 0 1 1 0 1 1 1 0 1 1 1 0 0\n",
      " 0 0 1 1 1 1 1 1 0 1 1 1 1]\n",
      "36.0\n",
      "[1 1 0 1 1 0 1 0 0 0 0 1 1 1 1 1 1 0 1 1 1 0 1 1 1 1 0 0 1 1 1 1 0 1 1 1 1\n",
      " 1 1 1 0 1 1 1 1 1 1 0 1 1]\n",
      "37.0\n",
      "[1 1 1 1 1 1 1 1 1 1 1 1 1 1 1 1 1 1 1 1 1 1 1 1 1 1 1 1 1 1 1 1 1 1 1 1 1\n",
      " 1 1 1 1 1 1 1 1 1 1 1 1 1]\n",
      "50.0\n"
     ]
    }
   ],
   "source": [
    "# Initialize fitness function object using pre-defined class\n",
    "fitness = mlrose.OneMax()\n",
    "\n",
    "MAX_ITER = 50 \n",
    "PROBLEM_SIZE = 50\n",
    "\n",
    "\n",
    "max_iteration_list = list()\n",
    "fitness_list_RHC = list()\n",
    "fitness_list_SM = list()\n",
    "fitness_list_GA = list()\n",
    "fitness_list_MIMIC = list()\n",
    "all_data = list()\n",
    "\n",
    "\n",
    "# Define optimization problem object\n",
    "problem = mlrose.DiscreteOpt(length = PROBLEM_SIZE, fitness_fn = fitness, maximize=True, max_val=2)\n",
    "\n",
    "for MAX_ITER in range(20, 110, 20):  \n",
    "\n",
    "    print(\"Running for max_iteration size: \", MAX_ITER)\n",
    "\n",
    "    # # Define decay schedule\n",
    "    schedule = mlrose.ExpDecay()\n",
    "\n",
    "    np.random.seed(17)\n",
    "\n",
    "    # Solve using random hill climbing\n",
    "    best_state_RHC, best_fitness_RHC =  mlrose.random_hill_climb(problem, max_attempts=10, \n",
    "                                                                 max_iters=MAX_ITER, restarts=0, \n",
    "                                                                 init_state=None, curve=False, \n",
    "                                                                 random_state=None)\n",
    "\n",
    "    # Solve using simulated annealing \n",
    "    best_state_SM, best_fitness_SM = mlrose.simulated_annealing(problem, schedule = schedule, max_attempts = 50, \n",
    "                                                          max_iters = MAX_ITER, init_state = None)\n",
    "\n",
    "    # Solve problem using the genetic algorithm\n",
    "    best_state_GA, best_fitness_GA = mlrose.genetic_alg(problem, pop_size=200, mutation_prob=0.1, max_attempts=10, \n",
    "                                                        max_iters=MAX_ITER, curve=False, random_state=None)\n",
    "\n",
    "    # Solve problem using mimic\n",
    "    best_state_MIMIC, best_fitness_MIMIC = mlrose.mimic(problem, pop_size=200, keep_pct=0.2, max_attempts=10, \n",
    "                                                  max_iters=MAX_ITER, curve=False, random_state=None)\n",
    "    \n",
    "    \n",
    "    # Append to each individual list \n",
    "    fitness_list_RHC.append(best_fitness_RHC)\n",
    "    fitness_list_SM.append(best_fitness_SM)\n",
    "    fitness_list_GA.append(best_fitness_GA)\n",
    "    fitness_list_MIMIC.append(best_fitness_MIMIC)\n",
    "    \n",
    "    # Append Iteration size (For x-axis of our graph)\n",
    "    max_iteration_list.append(MAX_ITER)\n",
    "    \n",
    "    # Append data to list (for dataframe later)\n",
    "    all_data.append([MAX_ITER, best_fitness_RHC, best_fitness_SM, best_fitness_GA, best_fitness_MIMIC])\n",
    "    "
   ]
  },
  {
   "cell_type": "code",
   "execution_count": 20,
   "metadata": {},
   "outputs": [],
   "source": [
    "# Save everything in pandas dataframe \n",
    "cols = [\"Max Iterations\", \"RHC Solution\", \"SM Solution\", \"GA Solution\", \"MIMIC Solution\"]\n",
    "\n",
    "countOnes_df = pd.DataFrame(all_data, columns=cols)\n",
    "countOnes_df.to_csv(\"CountOnes_MaxIterations_data.csv\")"
   ]
  },
  {
   "cell_type": "code",
   "execution_count": 21,
   "metadata": {},
   "outputs": [
    {
     "name": "stdout",
     "output_type": "stream",
     "text": [
      "   Max Iterations  RHC Solution  SM Solution  GA Solution  MIMIC Solution\n",
      "0              20          35.0         32.0         39.0            50.0\n",
      "1              40          41.0         33.0         37.0            50.0\n",
      "2              60          42.0         33.0         39.0            50.0\n",
      "3              80          42.0         34.0         38.0            50.0\n",
      "4             100          42.0         36.0         37.0            50.0\n"
     ]
    }
   ],
   "source": [
    "print(countOnes_df)"
   ]
  }
 ],
 "metadata": {
  "kernelspec": {
   "display_name": "Python 3",
   "language": "python",
   "name": "python3"
  },
  "language_info": {
   "codemirror_mode": {
    "name": "ipython",
    "version": 3
   },
   "file_extension": ".py",
   "mimetype": "text/x-python",
   "name": "python",
   "nbconvert_exporter": "python",
   "pygments_lexer": "ipython3",
   "version": "3.5.2"
  }
 },
 "nbformat": 4,
 "nbformat_minor": 2
}
