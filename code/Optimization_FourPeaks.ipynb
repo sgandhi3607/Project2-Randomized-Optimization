{
 "cells": [
  {
   "cell_type": "markdown",
   "metadata": {},
   "source": [
    "### Import Libraries"
   ]
  },
  {
   "cell_type": "code",
   "execution_count": 2,
   "metadata": {},
   "outputs": [],
   "source": [
    "import mlrose\n",
    "\n",
    "from sklearn.datasets import load_iris\n",
    "from sklearn.model_selection import train_test_split\n",
    "from sklearn.preprocessing import MinMaxScaler, OneHotEncoder\n",
    "from sklearn.metrics import accuracy_score\n",
    "\n",
    "import numpy as np\n",
    "import pandas as pd"
   ]
  },
  {
   "cell_type": "code",
   "execution_count": 21,
   "metadata": {},
   "outputs": [
    {
     "name": "stdout",
     "output_type": "stream",
     "text": [
      "Running for max_iteration size:  100\n",
      "Running for max_iteration size:  150\n",
      "Running for max_iteration size:  200\n",
      "Running for max_iteration size:  250\n",
      "Running for max_iteration size:  300\n",
      "Running for max_iteration size:  350\n",
      "Running for max_iteration size:  400\n",
      "Running for max_iteration size:  450\n",
      "Running for max_iteration size:  500\n",
      "Running for max_iteration size:  550\n",
      "Running for max_iteration size:  600\n",
      "Running for max_iteration size:  650\n",
      "Running for max_iteration size:  700\n",
      "Running for max_iteration size:  750\n",
      "Running for max_iteration size:  800\n",
      "Running for max_iteration size:  850\n",
      "Running for max_iteration size:  900\n",
      "Running for max_iteration size:  950\n"
     ]
    }
   ],
   "source": [
    "# Initialize fitness function object using pre-defined class\n",
    "fitness = mlrose.FourPeaks(t_pct=0.1)\n",
    "\n",
    "MAX_ITER = 50 \n",
    "PROBLEM_SIZE = 50\n",
    "\n",
    "\n",
    "max_iteration_list = list()\n",
    "fitness_list_RHC = list()\n",
    "fitness_list_SM = list()\n",
    "fitness_list_GA = list()\n",
    "fitness_list_MIMIC = list()\n",
    "all_data = list()\n",
    "\n",
    "\n",
    "# Define optimization problem object\n",
    "problem = mlrose.DiscreteOpt(length = PROBLEM_SIZE, fitness_fn = fitness, maximize=True, max_val=2)\n",
    "\n",
    "for MAX_ITER in range(100, 1001, 50):  \n",
    "\n",
    "    print(\"Running for max_iteration size: \", MAX_ITER)\n",
    "\n",
    "    # # Define decay schedule\n",
    "    schedule = mlrose.ExpDecay()\n",
    "\n",
    "    np.random.seed(17)\n",
    "\n",
    "    # Solve using random hill climbing\n",
    "    best_state_RHC, best_fitness_RHC =  mlrose.random_hill_climb(problem, max_attempts=50, \n",
    "                                                                 max_iters=MAX_ITER, restarts=0, \n",
    "                                                                 init_state=None, curve=False, \n",
    "                                                                 random_state=None)\n",
    "\n",
    "    # Solve using simulated annealing \n",
    "    best_state_SM, best_fitness_SM = mlrose.simulated_annealing(problem, schedule = schedule, max_attempts = 50, \n",
    "                                                          max_iters = MAX_ITER, init_state = None)\n",
    "\n",
    "    # Solve problem using the genetic algorithm\n",
    "    best_state_GA, best_fitness_GA = mlrose.genetic_alg(problem, pop_size=200, mutation_prob=0.1, max_attempts=10, \n",
    "                                                        max_iters=MAX_ITER, curve=False, random_state=None)\n",
    "\n",
    "    # Solve problem using mimic\n",
    "    best_state_MIMIC, best_fitness_MIMIC = mlrose.mimic(problem, pop_size=200, keep_pct=0.2, max_attempts=10, \n",
    "                                                  max_iters=MAX_ITER, curve=False, random_state=None)\n",
    "    \n",
    "    \n",
    "    # Append to each individual list \n",
    "    fitness_list_RHC.append(best_fitness_RHC)\n",
    "    fitness_list_SM.append(best_fitness_SM)\n",
    "    fitness_list_GA.append(best_fitness_GA)\n",
    "    fitness_list_MIMIC.append(best_fitness_MIMIC)\n",
    "    \n",
    "    # Append Iteration size (For x-axis of our graph)\n",
    "    max_iteration_list.append(MAX_ITER)\n",
    "    \n",
    "    # Append data to list (for dataframe later)\n",
    "    all_data.append([MAX_ITER, best_fitness_RHC, best_fitness_SM, best_fitness_GA, best_fitness_MIMIC])\n",
    "    "
   ]
  },
  {
   "cell_type": "code",
   "execution_count": 22,
   "metadata": {},
   "outputs": [],
   "source": [
    "# Save everything in pandas dataframe \n",
    "cols = [\"Max Iterations\", \"RHC Solution\", \"SM Solution\", \"GA Solution\", \"MIMIC Solution\"]\n",
    "\n",
    "fourPeaks_df = pd.DataFrame(all_data, columns=cols)\n",
    "fourPeaks_df.to_csv(\"CountOnes_MaxIterations_data.csv\")"
   ]
  },
  {
   "cell_type": "code",
   "execution_count": 23,
   "metadata": {},
   "outputs": [
    {
     "name": "stdout",
     "output_type": "stream",
     "text": [
      "    Max Iterations  RHC Solution  SM Solution  GA Solution  MIMIC Solution\n",
      "0              100           8.0          4.0         66.0            68.0\n",
      "1              150          10.0          6.0         65.0            66.0\n",
      "2              200          10.0          8.0         66.0            78.0\n",
      "3              250          10.0          9.0         66.0            67.0\n",
      "4              300          10.0         11.0         70.0            73.0\n",
      "5              350          10.0         11.0         66.0            70.0\n",
      "6              400          10.0         19.0         64.0            67.0\n",
      "7              450          10.0         21.0         69.0            67.0\n",
      "8              500          10.0         21.0         67.0            69.0\n",
      "9              550          10.0         21.0         67.0            70.0\n",
      "10             600          10.0         74.0         72.0            79.0\n",
      "11             650          10.0         75.0         65.0            72.0\n",
      "12             700          10.0         75.0         68.0            63.0\n",
      "13             750          10.0         75.0         65.0            73.0\n",
      "14             800          10.0         80.0         63.0            72.0\n",
      "15             850          10.0         83.0         66.0            71.0\n",
      "16             900          10.0         83.0         69.0            68.0\n",
      "17             950          10.0         83.0         66.0            68.0\n"
     ]
    }
   ],
   "source": [
    "print(fourPeaks_df)"
   ]
  },
  {
   "cell_type": "markdown",
   "metadata": {},
   "source": [
    "### Individual Tweaking Space (Look below)"
   ]
  },
  {
   "cell_type": "code",
   "execution_count": 19,
   "metadata": {},
   "outputs": [
    {
     "name": "stdout",
     "output_type": "stream",
     "text": [
      "Running for max_iteration size:  10000\n",
      "best_fitness_RHC:  77.0\n",
      "best_fitness_SM:  94.0\n"
     ]
    }
   ],
   "source": [
    "# Initialize fitness function object using pre-defined class\n",
    "fitness = mlrose.FourPeaks(t_pct=0.1)\n",
    "\n",
    "MAX_ITER = 10000\n",
    "PROBLEM_SIZE = 50\n",
    "\n",
    "\n",
    "# Define optimization problem object\n",
    "problem = mlrose.DiscreteOpt(length = PROBLEM_SIZE, fitness_fn = fitness, maximize=True, max_val=2)\n",
    "\n",
    "\n",
    "print(\"Running for max_iteration size: \", MAX_ITER)\n",
    "\n",
    "# # Define decay schedule\n",
    "schedule = mlrose.ExpDecay()\n",
    "\n",
    "np.random.seed(17)\n",
    "\n",
    "# Solve using random hill climbing\n",
    "best_state_RHC, best_fitness_RHC =  mlrose.random_hill_climb(problem, max_attempts=50, \n",
    "                                                             max_iters=MAX_ITER, restarts=100, \n",
    "                                                             init_state=None, curve=False, \n",
    "                                                             random_state=None)\n",
    "\n",
    "# Solve using simulated annealing \n",
    "best_state_SM, best_fitness_SM = mlrose.simulated_annealing(problem, schedule = schedule, max_attempts = 50, \n",
    "                                                      max_iters = MAX_ITER, init_state = None)\n",
    "\n",
    "    \n",
    "print(\"best_fitness_RHC: \", best_fitness_RHC)\n",
    "print(\"best_fitness_SM: \", best_fitness_SM)"
   ]
  }
 ],
 "metadata": {
  "kernelspec": {
   "display_name": "Python 3",
   "language": "python",
   "name": "python3"
  },
  "language_info": {
   "codemirror_mode": {
    "name": "ipython",
    "version": 3
   },
   "file_extension": ".py",
   "mimetype": "text/x-python",
   "name": "python",
   "nbconvert_exporter": "python",
   "pygments_lexer": "ipython3",
   "version": "3.5.2"
  }
 },
 "nbformat": 4,
 "nbformat_minor": 2
}
